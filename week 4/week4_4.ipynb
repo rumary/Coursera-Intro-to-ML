{
 "cells": [
  {
   "cell_type": "code",
   "execution_count": 54,
   "metadata": {},
   "outputs": [],
   "source": [
    "import pandas as pd\n",
    "import numpy as np\n",
    "from sklearn.model_selection import train_test_split\n",
    "from sklearn.ensemble import GradientBoostingClassifier\n",
    "from sklearn.ensemble import RandomForestClassifier\n",
    "\n",
    "import matplotlib.pyplot as plt\n",
    "from sklearn.metrics import log_loss\n",
    "%matplotlib inline"
   ]
  },
  {
   "cell_type": "code",
   "execution_count": 28,
   "metadata": {},
   "outputs": [],
   "source": [
    "df = pd.read_csv('gbm-data.csv')\n",
    "X = df.iloc[:,1:].values\n",
    "y = df.iloc[:,0].values"
   ]
  },
  {
   "cell_type": "code",
   "execution_count": 29,
   "metadata": {},
   "outputs": [],
   "source": [
    "X_train, X_test, y_train, y_test = train_test_split(X, y, \n",
    "                                      test_size=0.8, \n",
    "                                      random_state=241)"
   ]
  },
  {
   "cell_type": "code",
   "execution_count": 46,
   "metadata": {
    "scrolled": false
   },
   "outputs": [
    {
     "name": "stdout",
     "output_type": "stream",
     "text": [
      "      Iter       Train Loss   Remaining Time \n",
      "         1           1.0190           14.84s\n",
      "         2           0.9192           15.84s\n",
      "         3           0.8272           14.83s\n",
      "         4           0.7834           14.93s\n",
      "         5           0.7109           14.70s\n",
      "         6           0.6368           15.84s\n",
      "         7           0.5797           17.67s\n",
      "         8           0.5610           18.23s\n",
      "         9           0.5185           22.88s\n",
      "        10           0.4984           22.44s\n",
      "        20           0.1999           17.47s\n",
      "        30           0.1313           15.27s\n",
      "        40           0.0790           13.68s\n",
      "        50           0.0511           12.63s\n",
      "        60           0.0352           12.34s\n",
      "        70           0.0245           11.60s\n",
      "        80           0.0162           10.98s\n",
      "        90           0.0114           10.32s\n",
      "       100           0.0077            9.68s\n",
      "       200           0.0004            2.71s\n",
      "      Iter       Train Loss   Remaining Time \n",
      "         1           1.1255           15.02s\n",
      "         2           1.0035           14.94s\n",
      "         3           0.9386           14.93s\n",
      "         4           0.8844           14.47s\n",
      "         5           0.8381           13.96s\n",
      "         6           0.7995           13.48s\n",
      "         7           0.7559           13.28s\n",
      "         8           0.7205           13.11s\n",
      "         9           0.6958           13.11s\n",
      "        10           0.6725           13.00s\n",
      "        20           0.4672           12.75s\n",
      "        30           0.3179           12.75s\n",
      "        40           0.2274           11.90s\n",
      "        50           0.1774           11.25s\n",
      "        60           0.1394           10.78s\n",
      "        70           0.1050           10.34s\n",
      "        80           0.0805            9.74s\n",
      "        90           0.0650            9.07s\n",
      "       100           0.0511            8.56s\n",
      "       200           0.0058            2.80s\n",
      "      Iter       Train Loss   Remaining Time \n",
      "         1           1.2095           16.66s\n",
      "         2           1.1006           15.61s\n",
      "         3           1.0240           16.08s\n",
      "         4           0.9729           16.51s\n",
      "         5           0.9387           16.66s\n",
      "         6           0.8948           17.43s\n",
      "         7           0.8621           18.14s\n",
      "         8           0.8360           18.42s\n",
      "         9           0.8171           18.24s\n",
      "        10           0.7883           18.37s\n",
      "        20           0.6164           16.29s\n",
      "        30           0.4933           14.30s\n",
      "        40           0.4248           12.83s\n",
      "        50           0.3345           11.80s\n",
      "        60           0.2760           11.26s\n",
      "        70           0.2263           10.74s\n",
      "        80           0.1971           11.15s\n",
      "        90           0.1693           10.66s\n",
      "       100           0.1388           10.02s\n",
      "       200           0.0294            3.14s\n",
      "      Iter       Train Loss   Remaining Time \n",
      "         1           1.2613           19.51s\n",
      "         2           1.1715           19.19s\n",
      "         3           1.1009           18.14s\n",
      "         4           1.0529           17.41s\n",
      "         5           1.0130           16.77s\n",
      "         6           0.9740           16.57s\n",
      "         7           0.9475           16.33s\n",
      "         8           0.9197           16.32s\n",
      "         9           0.8979           15.80s\n",
      "        10           0.8730           15.57s\n",
      "        20           0.7207           14.05s\n",
      "        30           0.6055           13.24s\n",
      "        40           0.5244           12.75s\n",
      "        50           0.4501           12.10s\n",
      "        60           0.3908           11.90s\n",
      "        70           0.3372           11.77s\n",
      "        80           0.3009           11.07s\n",
      "        90           0.2603           10.43s\n",
      "       100           0.2327            9.73s\n",
      "       200           0.0835            3.34s\n",
      "      Iter       Train Loss   Remaining Time \n",
      "         1           1.3199           15.53s\n",
      "         2           1.2645           15.03s\n",
      "         3           1.2170           14.90s\n",
      "         4           1.1775           15.11s\n",
      "         5           1.1404           14.93s\n",
      "         6           1.1106           15.00s\n",
      "         7           1.0844           14.94s\n",
      "         8           1.0617           14.99s\n",
      "         9           1.0411           14.98s\n",
      "        10           1.0223           14.79s\n",
      "        20           0.8864           13.46s\n",
      "        30           0.7844           14.92s\n",
      "        40           0.7176           14.73s\n",
      "        50           0.6590           13.87s\n",
      "        60           0.6120           13.19s\n",
      "        70           0.5599           12.38s\n",
      "        80           0.5242           11.50s\n",
      "        90           0.4829           10.55s\n",
      "       100           0.4473            9.74s\n",
      "       200           0.2379            2.93s\n"
     ]
    },
    {
     "data": {
      "image/png": "[encoded data removed]",
      "text/plain": [
       "<matplotlib.figure.Figure at 0x1582e0f90>"
      ]
     },
     "metadata": {},
     "output_type": "display_data"
    },
    {
     "data": {
      "image/png": "[encoded data removed]",
      "text/plain": [
       "<matplotlib.figure.Figure at 0x1576b1fd0>"
      ]
     },
     "metadata": {},
     "output_type": "display_data"
    },
    {
     "data": {
      "image/png": "[encoded data removed]",
      "text/plain": [
       "<matplotlib.figure.Figure at 0x159a39a10>"
      ]
     },
     "metadata": {},
     "output_type": "display_data"
    },
    {
     "data": {
      "image/png": "[encoded data removed]",
      "text/plain": [
       "<matplotlib.figure.Figure at 0x159e98690>"
      ]
     },
     "metadata": {},
     "output_type": "display_data"
    },
    {
     "data": {
      "image/png": "[encoded data removed]",
      "text/plain": [
       "<matplotlib.figure.Figure at 0x159ecbe90>"
      ]
     },
     "metadata": {},
     "output_type": "display_data"
    }
   ],
   "source": [
    "for n in [1, 0.5, 0.3, 0.2, 0.1]:\n",
    "    clf = GradientBoostingClassifier(n_estimators=250, verbose = True, random_state=241,learning_rate=n)\n",
    "    clf.fit(X_train, y_train)\n",
    "    test_loss = []\n",
    "    train_loss = []\n",
    "    for i, y_pred in enumerate(clf.staged_decision_function(X_train)):\n",
    "        y_pred_train = 1./(1.+np.exp(-y_pred))\n",
    "        train_loss.append(log_loss(y_train, y_pred_train))\n",
    "        \n",
    "    for i, y_pred in enumerate(clf.staged_decision_function(X_test)):\n",
    "        y_pred_test = 1./(1.+np.exp(-y_pred))\n",
    "        test_loss.append(log_loss(y_test, y_pred_test))\n",
    "    plt.figure()\n",
    "    plt.plot(train_loss, 'r', linewidth = 2)\n",
    "    plt.plot(test_loss, 'g' , linewidth = 2)"
   ]
  },
  {
   "cell_type": "code",
   "execution_count": 47,
   "metadata": {},
   "outputs": [],
   "source": [
    "with open('answer4_5.txt', 'w') as fout:\n",
    "    fout.write('overfitting')"
   ]
  },
  {
   "cell_type": "code",
   "execution_count": 52,
   "metadata": {},
   "outputs": [
    {
     "name": "stdout",
     "output_type": "stream",
     "text": [
      "      Iter       Train Loss   Remaining Time \n",
      "         1           1.2613           13.92s\n",
      "         2           1.1715           13.85s\n",
      "         3           1.1009           14.06s\n",
      "         4           1.0529           14.48s\n",
      "         5           1.0130           14.67s\n",
      "         6           0.9740           14.93s\n",
      "         7           0.9475           14.63s\n",
      "         8           0.9197           14.77s\n",
      "         9           0.8979           14.34s\n",
      "        10           0.8730           14.09s\n",
      "        20           0.7207           12.34s\n",
      "        30           0.6055           12.23s\n",
      "        40           0.5244           12.20s\n",
      "        50           0.4501           11.73s\n",
      "        60           0.3908           10.96s\n",
      "        70           0.3372           10.16s\n",
      "        80           0.3009            9.44s\n",
      "        90           0.2603            8.95s\n",
      "       100           0.2327            8.35s\n",
      "       200           0.0835            2.73s\n",
      "0\n",
      "1\n",
      "2\n",
      "3\n",
      "4\n",
      "5\n",
      "6\n",
      "7\n",
      "8\n",
      "9\n",
      "10\n",
      "11\n",
      "12\n",
      "13\n",
      "14\n",
      "15\n",
      "16\n",
      "17\n",
      "18\n",
      "19\n",
      "20\n",
      "21\n",
      "22\n",
      "23\n",
      "24\n",
      "25\n",
      "26\n",
      "27\n",
      "28\n",
      "29\n",
      "30\n",
      "31\n",
      "32\n",
      "33\n",
      "34\n",
      "35\n",
      "36\n",
      "37\n",
      "38\n",
      "39\n",
      "40\n",
      "41\n",
      "42\n",
      "43\n",
      "44\n",
      "45\n",
      "46\n",
      "47\n",
      "48\n",
      "49\n",
      "50\n",
      "51\n",
      "52\n",
      "53\n",
      "54\n",
      "55\n",
      "56\n",
      "57\n",
      "58\n",
      "59\n",
      "60\n",
      "61\n",
      "62\n",
      "63\n",
      "64\n",
      "65\n",
      "66\n",
      "67\n",
      "68\n",
      "69\n",
      "70\n",
      "71\n",
      "72\n",
      "73\n",
      "74\n",
      "75\n",
      "76\n",
      "77\n",
      "78\n",
      "79\n",
      "80\n",
      "81\n",
      "82\n",
      "83\n",
      "84\n",
      "85\n",
      "86\n",
      "87\n",
      "88\n",
      "89\n",
      "90\n",
      "91\n",
      "92\n",
      "93\n",
      "94\n",
      "95\n",
      "96\n",
      "97\n",
      "98\n",
      "99\n",
      "100\n",
      "101\n",
      "102\n",
      "103\n",
      "104\n",
      "105\n",
      "106\n",
      "107\n",
      "108\n",
      "109\n",
      "110\n",
      "111\n",
      "112\n",
      "113\n",
      "114\n",
      "115\n",
      "116\n",
      "117\n",
      "118\n",
      "119\n",
      "120\n",
      "121\n",
      "122\n",
      "123\n",
      "124\n",
      "125\n",
      "126\n",
      "127\n",
      "128\n",
      "129\n",
      "130\n",
      "131\n",
      "132\n",
      "133\n",
      "134\n",
      "135\n",
      "136\n",
      "137\n",
      "138\n",
      "139\n",
      "140\n",
      "141\n",
      "142\n",
      "143\n",
      "144\n",
      "145\n",
      "146\n",
      "147\n",
      "148\n",
      "149\n",
      "150\n",
      "151\n",
      "152\n",
      "153\n",
      "154\n",
      "155\n",
      "156\n",
      "157\n",
      "158\n",
      "159\n",
      "160\n",
      "161\n",
      "162\n",
      "163\n",
      "164\n",
      "165\n",
      "166\n",
      "167\n",
      "168\n",
      "169\n",
      "170\n",
      "171\n",
      "172\n",
      "173\n",
      "174\n",
      "175\n",
      "176\n",
      "177\n",
      "178\n",
      "179\n",
      "180\n",
      "181\n",
      "182\n",
      "183\n",
      "184\n",
      "185\n",
      "186\n",
      "187\n",
      "188\n",
      "189\n",
      "190\n",
      "191\n",
      "192\n",
      "193\n",
      "194\n",
      "195\n",
      "196\n",
      "197\n",
      "198\n",
      "199\n",
      "200\n",
      "201\n",
      "202\n",
      "203\n",
      "204\n",
      "205\n",
      "206\n",
      "207\n",
      "208\n",
      "209\n",
      "210\n",
      "211\n",
      "212\n",
      "213\n",
      "214\n",
      "215\n",
      "216\n",
      "217\n",
      "218\n",
      "219\n",
      "220\n",
      "221\n",
      "222\n",
      "223\n",
      "224\n",
      "225\n",
      "226\n",
      "227\n",
      "228\n",
      "229\n",
      "230\n",
      "231\n",
      "232\n",
      "233\n",
      "234\n",
      "235\n",
      "236\n",
      "237\n",
      "238\n",
      "239\n",
      "240\n",
      "241\n",
      "242\n",
      "243\n",
      "244\n",
      "245\n",
      "246\n",
      "247\n",
      "248\n",
      "249\n"
     ]
    }
   ],
   "source": [
    "for n in [0.2]:\n",
    "    clf = GradientBoostingClassifier(n_estimators=250, verbose = True, random_state=241,learning_rate=n)\n",
    "    clf.fit(X_train, y_train)\n",
    "    test_loss = []\n",
    "    #train_loss = []\n",
    "    #for i, y_pred in enumerate(clf.staged_decision_function(X_train)):\n",
    "    #    y_pred_train = 1./(1.+np.exp(-y_pred))\n",
    "    #    train_loss.append(log_loss(y_train, y_pred_train))      \n",
    "    for i, y_pred in enumerate(clf.staged_decision_function(X_test)):\n",
    "        print i\n",
    "        y_pred_test = 1./(1.+np.exp(-y_pred))\n",
    "        test_loss.append(log_loss(y_test, y_pred_test))"
   ]
  },
  {
   "cell_type": "code",
   "execution_count": 53,
   "metadata": {},
   "outputs": [
    {
     "data": {
      "text/plain": [
       "37"
      ]
     },
     "execution_count": 53,
     "metadata": {},
     "output_type": "execute_result"
    }
   ],
   "source": [
    "test_loss.index(min(test_loss))+1"
   ]
  },
  {
   "cell_type": "code",
   "execution_count": 73,
   "metadata": {},
   "outputs": [
    {
     "data": {
      "text/plain": [
       "(0.531094637596885, 2)"
      ]
     },
     "execution_count": 73,
     "metadata": {},
     "output_type": "execute_result"
    }
   ],
   "source": [
    "min(test_loss),2"
   ]
  },
  {
   "cell_type": "code",
   "execution_count": 61,
   "metadata": {},
   "outputs": [],
   "source": [
    "answer = str(0.53) + ' ' + str(37)"
   ]
  },
  {
   "cell_type": "code",
   "execution_count": 62,
   "metadata": {},
   "outputs": [],
   "source": [
    "with open('answer4_6.txt', 'w') as fout:\n",
    "    fout.write(answer)"
   ]
  },
  {
   "cell_type": "code",
   "execution_count": 63,
   "metadata": {},
   "outputs": [],
   "source": [
    "rf = RandomForestClassifier(n_estimators=37, random_state=241)\n",
    "rf.fit(X_train, y_train)\n",
    "y_pred = clf.predict_proba(X_test)"
   ]
  },
  {
   "cell_type": "code",
   "execution_count": 71,
   "metadata": {},
   "outputs": [
    {
     "data": {
      "text/plain": [
       "0.66"
      ]
     },
     "execution_count": 71,
     "metadata": {},
     "output_type": "execute_result"
    }
   ],
   "source": [
    "round(log_loss(y_test, y_pred[:,1]),2)"
   ]
  },
  {
   "cell_type": "code",
   "execution_count": 72,
   "metadata": {},
   "outputs": [],
   "source": [
    "with open('answer4_7.txt', 'w') as fout:\n",
    "    fout.write('0.53')"
   ]
  },
  {
   "cell_type": "code",
   "execution_count": 69,
   "metadata": {},
   "outputs": [
    {
     "data": {
      "text/plain": [
       "array([0.9616252 , 0.14045766, 0.41060204, ..., 0.56442039, 0.05771769,\n",
       "       0.99195541])"
      ]
     },
     "execution_count": 69,
     "metadata": {},
     "output_type": "execute_result"
    }
   ],
   "source": [
    "y_pred[:,1]"
   ]
  },
  {
   "cell_type": "code",
   "execution_count": null,
   "metadata": {},
   "outputs": [],
   "source": []
  }
 ],
 "metadata": {
  "kernelspec": {
   "display_name": "Python 2",
   "language": "python",
   "name": "python2"
  },
  "language_info": {
   "codemirror_mode": {
    "name": "ipython",
    "version": 2
   },
   "file_extension": ".py",
   "mimetype": "text/x-python",
   "name": "python",
   "nbconvert_exporter": "python",
   "pygments_lexer": "ipython2",
   "version": "2.7.3"
  }
 },
 "nbformat": 4,
 "nbformat_minor": 2
}
