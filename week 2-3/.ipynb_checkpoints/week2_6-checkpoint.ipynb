{
 "cells": [
  {
   "cell_type": "code",
   "execution_count": 127,
   "metadata": {},
   "outputs": [],
   "source": [
    "import pandas as pd\n",
    "from sklearn.linear_model import LogisticRegression\n",
    "import numpy as np\n",
    "from sklearn.metrics import roc_auc_score"
   ]
  },
  {
   "cell_type": "code",
   "execution_count": 128,
   "metadata": {},
   "outputs": [],
   "source": [
    "df = pd.read_csv('data-logistic.csv', header = None)"
   ]
  },
  {
   "cell_type": "code",
   "execution_count": 129,
   "metadata": {},
   "outputs": [],
   "source": [
    "x,y = df[[1,2]], df[0]"
   ]
  },
  {
   "cell_type": "code",
   "execution_count": 130,
   "metadata": {},
   "outputs": [],
   "source": [
    "k = 0.1\n",
    "l = df.shape[0]"
   ]
  },
  {
   "cell_type": "code",
   "execution_count": 131,
   "metadata": {},
   "outputs": [],
   "source": [
    "def gradient_descent(w1,w2,x,y,k,l,C):\n",
    "    delta_w1 = (k/l)*np.sum(y*x[1]*(1 - (1.)/(1+np.exp(-y*(w1*x[1] + w2*x[2]))))) - k*C*w1\n",
    "    delta_w2 = (k/l)*np.sum(y*x[2]*(1 - (1.)/(1+np.exp(-y*(w1*x[1] + w2*x[2]))))) - k*C*w2\n",
    "    return delta_w1,delta_w2"
   ]
  },
  {
   "cell_type": "code",
   "execution_count": 132,
   "metadata": {},
   "outputs": [],
   "source": [
    "def distance(w1,w2,w1_pr,w2_pr):\n",
    "    return np.linalg.norm(np.array([w1,w2]) - np.array([w1_pr,w2_pr]))"
   ]
  },
  {
   "cell_type": "code",
   "execution_count": 133,
   "metadata": {},
   "outputs": [],
   "source": [
    "def sigmoid(w1,w2,x):\n",
    "    return 1./(1 + np.exp(-w1*x[1] - w2*x[2]))"
   ]
  },
  {
   "cell_type": "code",
   "execution_count": 134,
   "metadata": {},
   "outputs": [
    {
     "name": "stdout",
     "output_type": "stream",
     "text": [
      "0.28781162047177644 0.09198330215925436 244\n"
     ]
    }
   ],
   "source": [
    "w1,w2 = 0, 0\n",
    "i = 0\n",
    "epsilon = 100\n",
    "while (epsilon>1e-5)&(i<10000):\n",
    "    w1_pr, w2_pr = w1, w2\n",
    "    delta_w1,delta_w2 = gradient_descent(w1_pr,w2_pr,x,y,k,l,0)\n",
    "    w1 = w1_pr + delta_w1\n",
    "    w2 = w2_pr + delta_w2   \n",
    "    epsilon = distance(w1,w2,w1_pr,w2_pr)\n",
    "    i+=1 \n",
    "print w1,w2,i"
   ]
  },
  {
   "cell_type": "code",
   "execution_count": 135,
   "metadata": {},
   "outputs": [],
   "source": [
    "roc1 = roc_auc_score(y, sigmoid(w1,w2,x))"
   ]
  },
  {
   "cell_type": "code",
   "execution_count": 136,
   "metadata": {},
   "outputs": [
    {
     "name": "stdout",
     "output_type": "stream",
     "text": [
      "0.02855875454623421 0.024780137249735542 8\n"
     ]
    }
   ],
   "source": [
    "w1,w2 = 0, 0\n",
    "i = 0\n",
    "epsilon = 100\n",
    "while (epsilon>1e-5)&(i<10000):\n",
    "    w1_pr, w2_pr = w1, w2\n",
    "    delta_w1,delta_w2 = gradient_descent(w1_pr,w2_pr,x,y,k,l,10)\n",
    "    w1 = w1_pr + delta_w1\n",
    "    w2 = w2_pr + delta_w2   \n",
    "    epsilon = distance(w1,w2,w1_pr,w2_pr)\n",
    "    i+=1 \n",
    "print w1,w2,i"
   ]
  },
  {
   "cell_type": "code",
   "execution_count": 118,
   "metadata": {},
   "outputs": [],
   "source": [
    "roc2 = roc_auc_score(y, sigmoid(w1,w2,x))"
   ]
  },
  {
   "cell_type": "code",
   "execution_count": 139,
   "metadata": {},
   "outputs": [],
   "source": [
    "answer = str(round(roc1,3)) + ' ' + str(round(roc2,3))"
   ]
  },
  {
   "cell_type": "code",
   "execution_count": 140,
   "metadata": {},
   "outputs": [
    {
     "data": {
      "text/plain": [
       "'0.927 0.936'"
      ]
     },
     "execution_count": 140,
     "metadata": {},
     "output_type": "execute_result"
    }
   ],
   "source": [
    "answer"
   ]
  },
  {
   "cell_type": "code",
   "execution_count": 141,
   "metadata": {},
   "outputs": [],
   "source": [
    "with open('answer2_8.txt', 'w') as fout:\n",
    "    fout.write(answer)"
   ]
  },
  {
   "cell_type": "code",
   "execution_count": null,
   "metadata": {},
   "outputs": [],
   "source": []
  }
 ],
 "metadata": {
  "kernelspec": {
   "display_name": "Python 2",
   "language": "python",
   "name": "python2"
  },
  "language_info": {
   "codemirror_mode": {
    "name": "ipython",
    "version": 2
   },
   "file_extension": ".py",
   "mimetype": "text/x-python",
   "name": "python",
   "nbconvert_exporter": "python",
   "pygments_lexer": "ipython2",
   "version": "2.7.3"
  }
 },
 "nbformat": 4,
 "nbformat_minor": 2
}
