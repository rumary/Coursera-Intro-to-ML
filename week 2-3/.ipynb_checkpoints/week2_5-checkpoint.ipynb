{
 "cells": [
  {
   "cell_type": "code",
   "execution_count": 62,
   "metadata": {},
   "outputs": [],
   "source": [
    "from sklearn import datasets\n",
    "import numpy as np\n",
    "import pandas as pd\n",
    "from sklearn.model_selection import KFold\n",
    "from sklearn.svm import SVC\n",
    "from sklearn.feature_extraction import text\n",
    "from sklearn.model_selection import GridSearchCV"
   ]
  },
  {
   "cell_type": "code",
   "execution_count": 63,
   "metadata": {},
   "outputs": [],
   "source": [
    "newsgroups = datasets.fetch_20newsgroups(subset='all', categories=['alt.atheism','sci.space'])"
   ]
  },
  {
   "cell_type": "code",
   "execution_count": 64,
   "metadata": {},
   "outputs": [],
   "source": [
    "vectorizer = text.TfidfVectorizer()"
   ]
  },
  {
   "cell_type": "code",
   "execution_count": 65,
   "metadata": {},
   "outputs": [],
   "source": [
    "X = vectorizer.fit_transform(newsgroups.data)"
   ]
  },
  {
   "cell_type": "code",
   "execution_count": 66,
   "metadata": {},
   "outputs": [
    {
     "data": {
      "text/plain": [
       "GridSearchCV(cv=KFold(n_splits=5, random_state=241, shuffle=True),\n",
       "       error_score='raise-deprecating',\n",
       "       estimator=SVC(C=1.0, cache_size=200, class_weight=None, coef0=0.0,\n",
       "  decision_function_shape='ovr', degree=3, gamma='auto_deprecated',\n",
       "  kernel='linear', max_iter=-1, probability=False, random_state=241,\n",
       "  shrinking=True, tol=0.001, verbose=False),\n",
       "       fit_params=None, iid='warn', n_jobs=None,\n",
       "       param_grid={'C': array([1.e-05, 1.e-04, 1.e-03, 1.e-02, 1.e-01, 1.e+00, 1.e+01, 1.e+02,\n",
       "       1.e+03, 1.e+04, 1.e+05])},\n",
       "       pre_dispatch='2*n_jobs', refit=True, return_train_score='warn',\n",
       "       scoring='accuracy', verbose=0)"
      ]
     },
     "execution_count": 66,
     "metadata": {},
     "output_type": "execute_result"
    }
   ],
   "source": [
    "grid = {'C':np.power(10.0, np.arange(-5,6))}\n",
    "kf = KFold(n_splits = 5, shuffle = True, random_state = 241)\n",
    "clf = SVC(kernel='linear',random_state=241)\n",
    "gs = GridSearchCV(clf, grid, scoring = 'accuracy', cv=kf)\n",
    "gs.fit(X, newsgroups.target)"
   ]
  },
  {
   "cell_type": "code",
   "execution_count": 67,
   "metadata": {},
   "outputs": [
    {
     "data": {
      "text/plain": [
       "{'C': 1.0}"
      ]
     },
     "execution_count": 67,
     "metadata": {},
     "output_type": "execute_result"
    }
   ],
   "source": [
    "gs.best_params_"
   ]
  },
  {
   "cell_type": "code",
   "execution_count": 68,
   "metadata": {},
   "outputs": [
    {
     "data": {
      "text/plain": [
       "SVC(C=1.0, cache_size=200, class_weight=None, coef0=0.0,\n",
       "  decision_function_shape='ovr', degree=3, gamma='auto_deprecated',\n",
       "  kernel='linear', max_iter=-1, probability=False, random_state=241,\n",
       "  shrinking=True, tol=0.001, verbose=False)"
      ]
     },
     "execution_count": 68,
     "metadata": {},
     "output_type": "execute_result"
    }
   ],
   "source": [
    "gs.best_estimator_"
   ]
  },
  {
   "cell_type": "code",
   "execution_count": 69,
   "metadata": {},
   "outputs": [],
   "source": [
    "clf = SVC(kernel='linear',random_state=241, C=1)"
   ]
  },
  {
   "cell_type": "code",
   "execution_count": 70,
   "metadata": {},
   "outputs": [
    {
     "data": {
      "text/plain": [
       "SVC(C=1, cache_size=200, class_weight=None, coef0=0.0,\n",
       "  decision_function_shape='ovr', degree=3, gamma='auto_deprecated',\n",
       "  kernel='linear', max_iter=-1, probability=False, random_state=241,\n",
       "  shrinking=True, tol=0.001, verbose=False)"
      ]
     },
     "execution_count": 70,
     "metadata": {},
     "output_type": "execute_result"
    }
   ],
   "source": [
    "clf.fit(X,newsgroups.target)"
   ]
  },
  {
   "cell_type": "code",
   "execution_count": 73,
   "metadata": {},
   "outputs": [
    {
     "name": "stdout",
     "output_type": "stream",
     "text": [
      "  (0, 11098)\t0.11331531787773705\n",
      "  (0, 6775)\t0.051343208241074294\n",
      "  (0, 5107)\t0.0544519626112153\n",
      "  (0, 98)\t0.05976641330900953\n",
      "  (0, 27042)\t0.10471864296583765\n",
      "  (0, 22622)\t0.10471864296583765\n",
      "  (0, 6135)\t0.10471864296583765\n",
      "  (0, 27130)\t0.00684318140365639\n",
      "  (0, 27083)\t0.00684318140365639\n",
      "  (0, 26026)\t0.007218660562038809\n",
      "  (0, 23036)\t0.006201295542734505\n",
      "  (0, 22982)\t0.007218660562038809\n",
      "  (0, 22762)\t0.007218660562038809\n",
      "  (0, 22739)\t0.007218660562038809\n",
      "  (0, 22595)\t0.007218660562038809\n",
      "  (0, 21945)\t0.00684318140365639\n",
      "  (0, 20801)\t0.014437321124077617\n",
      "  (0, 20800)\t0.04790226982559473\n",
      "  (0, 20042)\t0.021655981686116425\n",
      "  (0, 16400)\t0.016678229045437854\n",
      "  (0, 16224)\t0.007218660562038809\n",
      "  (0, 13928)\t0.007218660562038809\n",
      "  (0, 11716)\t0.007218660562038809\n",
      "  (0, 10127)\t0.00684318140365639\n",
      "  (0, 8938)\t0.007218660562038809\n",
      "  :\t:\n",
      "  (0, 9935)\t0.3248399751938945\n",
      "  (0, 9711)\t-0.09516871224270027\n",
      "  (0, 9622)\t0.03990881301147697\n",
      "  (0, 9368)\t-0.31125053382095497\n",
      "  (0, 9107)\t-0.1575245967541241\n",
      "  (0, 9034)\t0.14484134566730592\n",
      "  (0, 9009)\t-0.3150491935082482\n",
      "  (0, 8498)\t0.011196011024343932\n",
      "  (0, 7951)\t-0.020046259005585838\n",
      "  (0, 7418)\t-0.16263454526432802\n",
      "  (0, 7316)\t-0.08727901120638609\n",
      "  (0, 6702)\t0.441818285927321\n",
      "  (0, 5653)\t-0.1559151237425815\n",
      "  (0, 5621)\t-0.32526909052865605\n",
      "  (0, 5596)\t-0.5016163200110193\n",
      "  (0, 5563)\t0.02790175281582028\n",
      "  (0, 4796)\t-0.3023512213448363\n",
      "  (0, 4455)\t-0.1549028950900121\n",
      "  (0, 4241)\t-0.5643631189867603\n",
      "  (0, 4059)\t-0.03504700765757786\n",
      "  (0, 4040)\t-0.21175962963291572\n",
      "  (0, 3837)\t-0.2877422722956582\n",
      "  (0, 3669)\t-0.23728550334252346\n",
      "  (0, 3601)\t0.18461124362812342\n",
      "  (0, 335)\t-0.2410018045179529\n"
     ]
    }
   ],
   "source": [
    "print clf.coef_"
   ]
  },
  {
   "cell_type": "code",
   "execution_count": 104,
   "metadata": {},
   "outputs": [
    {
     "name": "stdout",
     "output_type": "stream",
     "text": [
      "(1, 28382)\n"
     ]
    }
   ],
   "source": [
    "print clf.coef_.shape"
   ]
  },
  {
   "cell_type": "code",
   "execution_count": 107,
   "metadata": {},
   "outputs": [],
   "source": [
    "row = clf.coef_.toarray()[0].ravel()\n",
    "top_ten_indicies = np.argsort(abs(row))[-10:]\n",
    "top_ten_values = row[top_ten_indicies]"
   ]
  },
  {
   "cell_type": "code",
   "execution_count": 109,
   "metadata": {},
   "outputs": [
    {
     "data": {
      "text/plain": [
       "array([ 1.02930693, -1.09709365, -1.13061234, -1.13908084,  1.1801316 ,\n",
       "        1.20161118, -1.24918001, -1.25468995, -1.9203794 ,  2.66316479])"
      ]
     },
     "execution_count": 109,
     "metadata": {},
     "output_type": "execute_result"
    }
   ],
   "source": [
    "top_ten_values"
   ]
  },
  {
   "cell_type": "code",
   "execution_count": 110,
   "metadata": {},
   "outputs": [],
   "source": [
    "names = vectorizer.get_feature_names()"
   ]
  },
  {
   "cell_type": "code",
   "execution_count": 111,
   "metadata": {},
   "outputs": [],
   "source": [
    "answers = []\n",
    "for i in top_ten_indicies:\n",
    "    answers.append(names[i])"
   ]
  },
  {
   "cell_type": "code",
   "execution_count": 113,
   "metadata": {},
   "outputs": [
    {
     "data": {
      "text/plain": [
       "u'atheism,atheists,bible,god,keith,moon,religion,sci,sky,space'"
      ]
     },
     "execution_count": 113,
     "metadata": {},
     "output_type": "execute_result"
    }
   ],
   "source": [
    "','.join(sorted(answers))"
   ]
  },
  {
   "cell_type": "code",
   "execution_count": 94,
   "metadata": {},
   "outputs": [],
   "source": [
    "with open('answer2_7.txt', 'w') as fout:\n",
    "    fout.write(','.join(sorted(answers)))"
   ]
  },
  {
   "cell_type": "code",
   "execution_count": null,
   "metadata": {},
   "outputs": [],
   "source": []
  }
 ],
 "metadata": {
  "kernelspec": {
   "display_name": "Python 2",
   "language": "python",
   "name": "python2"
  },
  "language_info": {
   "codemirror_mode": {
    "name": "ipython",
    "version": 2
   },
   "file_extension": ".py",
   "mimetype": "text/x-python",
   "name": "python",
   "nbconvert_exporter": "python",
   "pygments_lexer": "ipython2",
   "version": "2.7.3"
  }
 },
 "nbformat": 4,
 "nbformat_minor": 2
}
